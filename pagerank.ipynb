{
 "cells": [
  {
   "cell_type": "markdown",
   "metadata": {},
   "source": [
    "# PageRank Algorithm"
   ]
  },
  {
   "cell_type": "code",
   "execution_count": 1,
   "metadata": {},
   "outputs": [],
   "source": [
    "import pandas as pd\n",
    "import numpy as np\n",
    "import seaborn as sns\n",
    "from neo4j import GraphDatabase\n",
    "import matplotlib.pyplot as plt"
   ]
  },
  {
   "cell_type": "markdown",
   "metadata": {},
   "source": [
    "#### Connecting to the DBMS\n",
    "If there is any authentification error after you run any queries, then your username and password are wrong"
   ]
  },
  {
   "cell_type": "code",
   "execution_count": 7,
   "metadata": {},
   "outputs": [
    {
     "name": "stderr",
     "output_type": "stream",
     "text": [
      "C:\\Users\\email\\AppData\\Local\\Temp/ipykernel_18568/1418514333.py:9: ExperimentalWarning: The configuration may change in the future.\n",
      "  driver.verify_connectivity()\n"
     ]
    },
    {
     "data": {
      "text/plain": [
       "'Neo4j/4.4.5'"
      ]
     },
     "execution_count": 7,
     "metadata": {},
     "output_type": "execute_result"
    }
   ],
   "source": [
    "# Seen from :server status\n",
    "uri = \"bolt://localhost:7687\"\n",
    "\n",
    "# default user for graph database is neo4j\n",
    "# auth = (\"neo4j\", \"password\")\n",
    "auth = (\"neo4j\",\"abc\")\n",
    "\n",
    "driver = GraphDatabase.driver(uri = uri, auth = auth)\n",
    "driver.verify_connectivity()"
   ]
  },
  {
   "cell_type": "markdown",
   "metadata": {},
   "source": [
    "#### Creating Graph Projection Mapping\n",
    "Graph Data Science Library plugin needs to be installed for this"
   ]
  },
  {
   "cell_type": "code",
   "execution_count": 8,
   "metadata": {},
   "outputs": [
    {
     "data": {
      "text/plain": [
       "<neo4j.work.result.Result at 0x203755fba60>"
      ]
     },
     "execution_count": 8,
     "metadata": {},
     "output_type": "execute_result"
    }
   ],
   "source": [
    "graph_projection_mapping =  \"\"\"\n",
    "\t\t\t\t\t\t\tCALL gds.graph.project(\n",
    "\t\t\t\t\t\t\t\t'Wikipedia',\n",
    "\t\t\t\t\t\t\t\t[\"Page\"],{\n",
    "\t\t\t\t\t\t\t\t\tLINKED: {orientation: \"Natural\"}\n",
    "\t\t\t\t\t\t\t\t}\n",
    "\t\t\t\t\t\t\t)\n",
    "\t\t\t\t\t\t\t\"\"\"\n",
    "driver.session().run(graph_projection_mapping)"
   ]
  },
  {
   "cell_type": "markdown",
   "metadata": {},
   "source": [
    "#### Implementing PageRank:"
   ]
  },
  {
   "cell_type": "code",
   "execution_count": 9,
   "metadata": {},
   "outputs": [],
   "source": [
    "class pagerank:\n",
    "    def __init__(self, driver) -> None:\n",
    "        \"\"\"\n",
    "        Args:\n",
    "            driver is GraphDatabase.driver\n",
    "        \"\"\"\n",
    "        self.driver = driver\n",
    "\n",
    "    def close(self) -> None:\n",
    "        self.driver.close()\n",
    "\n",
    "    #estimation for memory\n",
    "    @classmethod\n",
    "    def write(cls, tx) -> any:\n",
    "        \"\"\"\n",
    "        @param cls is the class\n",
    "        @param tx is the transaction\n",
    "        @returns the data for the memory\n",
    "        \"\"\"\n",
    "        query = (\"\"\"\n",
    "                    CALL gds.pageRank.write('Wikipedia', {\n",
    "                    maxIterations: 20,\n",
    "                    dampingFactor: 0.85,\n",
    "                    writeProperty: 'pagerank'\n",
    "                    })\n",
    "                    YIELD nodePropertiesWritten, ranIterations\n",
    "                \"\"\")\n",
    "        result = tx.run(query)\n",
    "        #returns dataframe\n",
    "        return result.data()\n",
    "\n",
    "    @classmethod\n",
    "    def pagerank(cls, tx) -> any:\n",
    "        \"\"\"\n",
    "        @param cls is the class\n",
    "        @param tx is the transaction\n",
    "        @return result.data() is the data of the pagerank\n",
    "        \"\"\"\n",
    "        query = (\"\"\"\n",
    "                    Call gds.pageRank.stream('Wikipedia') \n",
    "                    YIELD nodeId, score RETURN gds.util.asNode(nodeId).id AS id, score AS pagerank\n",
    "                    ORDER BY score DESC, id ASC\n",
    "                \"\"\")\n",
    "        result = tx.run(query)\n",
    "        #return a dataframe\n",
    "        return result.data() \n",
    "\n",
    "\n",
    "    def write_pagerank(self) -> any:\n",
    "        \"\"\"\n",
    "        @param self\n",
    "        @return result is the result of the memory estimation\n",
    "        \"\"\"\n",
    "        result = self.driver.session().write_transaction(self.write)\n",
    "        return pd.DataFrame(result)\n",
    "\n",
    "\n",
    "    def run_pagerank(self) -> any:\n",
    "        \"\"\"\n",
    "        @param self\n",
    "        @return result is the dataframe from the pagerank\n",
    "        \"\"\"\n",
    "        result = self.driver.session().write_transaction(self.pagerank)\n",
    "        return pd.DataFrame(result)"
   ]
  },
  {
   "cell_type": "code",
   "execution_count": 12,
   "metadata": {},
   "outputs": [
    {
     "data": {
      "text/html": [
       "<div>\n",
       "<style scoped>\n",
       "    .dataframe tbody tr th:only-of-type {\n",
       "        vertical-align: middle;\n",
       "    }\n",
       "\n",
       "    .dataframe tbody tr th {\n",
       "        vertical-align: top;\n",
       "    }\n",
       "\n",
       "    .dataframe thead th {\n",
       "        text-align: right;\n",
       "    }\n",
       "</style>\n",
       "<table border=\"1\" class=\"dataframe\">\n",
       "  <thead>\n",
       "    <tr style=\"text-align: right;\">\n",
       "      <th></th>\n",
       "      <th>id</th>\n",
       "      <th>pagerank</th>\n",
       "    </tr>\n",
       "  </thead>\n",
       "  <tbody>\n",
       "    <tr>\n",
       "      <th>0</th>\n",
       "      <td>United_States</td>\n",
       "      <td>42.074772</td>\n",
       "    </tr>\n",
       "    <tr>\n",
       "      <th>1</th>\n",
       "      <td>France</td>\n",
       "      <td>28.178751</td>\n",
       "    </tr>\n",
       "    <tr>\n",
       "      <th>2</th>\n",
       "      <td>Europe</td>\n",
       "      <td>27.807074</td>\n",
       "    </tr>\n",
       "    <tr>\n",
       "      <th>3</th>\n",
       "      <td>United_Kingdom</td>\n",
       "      <td>27.385292</td>\n",
       "    </tr>\n",
       "    <tr>\n",
       "      <th>4</th>\n",
       "      <td>English_language</td>\n",
       "      <td>21.327554</td>\n",
       "    </tr>\n",
       "  </tbody>\n",
       "</table>\n",
       "</div>"
      ],
      "text/plain": [
       "                 id   pagerank\n",
       "0     United_States  42.074772\n",
       "1            France  28.178751\n",
       "2            Europe  27.807074\n",
       "3    United_Kingdom  27.385292\n",
       "4  English_language  21.327554"
      ]
     },
     "execution_count": 12,
     "metadata": {},
     "output_type": "execute_result"
    }
   ],
   "source": [
    "hello = pagerank(driver)\n",
    "data = hello.run_pagerank()\n",
    "data.head()\n"
   ]
  },
  {
   "cell_type": "code",
   "execution_count": 13,
   "metadata": {},
   "outputs": [
    {
     "data": {
      "text/html": [
       "<div>\n",
       "<style scoped>\n",
       "    .dataframe tbody tr th:only-of-type {\n",
       "        vertical-align: middle;\n",
       "    }\n",
       "\n",
       "    .dataframe tbody tr th {\n",
       "        vertical-align: top;\n",
       "    }\n",
       "\n",
       "    .dataframe thead th {\n",
       "        text-align: right;\n",
       "    }\n",
       "</style>\n",
       "<table border=\"1\" class=\"dataframe\">\n",
       "  <thead>\n",
       "    <tr style=\"text-align: right;\">\n",
       "      <th></th>\n",
       "      <th>id</th>\n",
       "      <th>pagerank</th>\n",
       "    </tr>\n",
       "  </thead>\n",
       "  <tbody>\n",
       "    <tr>\n",
       "      <th>4599</th>\n",
       "      <td>Yellowhammer</td>\n",
       "      <td>0.15</td>\n",
       "    </tr>\n",
       "    <tr>\n",
       "      <th>4600</th>\n",
       "      <td>Yotsuya_Kaidan</td>\n",
       "      <td>0.15</td>\n",
       "    </tr>\n",
       "    <tr>\n",
       "      <th>4601</th>\n",
       "      <td>You%27re_Still_the_One</td>\n",
       "      <td>0.15</td>\n",
       "    </tr>\n",
       "    <tr>\n",
       "      <th>4602</th>\n",
       "      <td>Yungay%2C_Peru</td>\n",
       "      <td>0.15</td>\n",
       "    </tr>\n",
       "    <tr>\n",
       "      <th>4603</th>\n",
       "      <td>Zara_Yaqob</td>\n",
       "      <td>0.15</td>\n",
       "    </tr>\n",
       "  </tbody>\n",
       "</table>\n",
       "</div>"
      ],
      "text/plain": [
       "                          id  pagerank\n",
       "4599            Yellowhammer      0.15\n",
       "4600          Yotsuya_Kaidan      0.15\n",
       "4601  You%27re_Still_the_One      0.15\n",
       "4602          Yungay%2C_Peru      0.15\n",
       "4603              Zara_Yaqob      0.15"
      ]
     },
     "execution_count": 13,
     "metadata": {},
     "output_type": "execute_result"
    }
   ],
   "source": [
    "data.tail()"
   ]
  }
 ],
 "metadata": {
  "interpreter": {
   "hash": "cd1282070c1454c3a5e2c0a043a41f20bdaf1b517ad706d2cd400ff363f0e510"
  },
  "kernelspec": {
   "display_name": "Python 3.9.7 ('base')",
   "language": "python",
   "name": "python3"
  },
  "language_info": {
   "codemirror_mode": {
    "name": "ipython",
    "version": 3
   },
   "file_extension": ".py",
   "mimetype": "text/x-python",
   "name": "python",
   "nbconvert_exporter": "python",
   "pygments_lexer": "ipython3",
   "version": "3.9.7"
  },
  "orig_nbformat": 4
 },
 "nbformat": 4,
 "nbformat_minor": 2
}
